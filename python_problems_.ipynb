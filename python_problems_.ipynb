{
  "nbformat": 4,
  "nbformat_minor": 0,
  "metadata": {
    "colab": {
      "provenance": [],
      "authorship_tag": "ABX9TyPjwpuMFTYD1jDlaOH4KBdL",
      "include_colab_link": true
    },
    "kernelspec": {
      "name": "python3",
      "display_name": "Python 3"
    },
    "language_info": {
      "name": "python"
    }
  },
  "cells": [
    {
      "cell_type": "markdown",
      "metadata": {
        "id": "view-in-github",
        "colab_type": "text"
      },
      "source": [
        "<a href=\"https://colab.research.google.com/github/AshishMekhe/NewRepo/blob/main/python_problems_.ipynb\" target=\"_parent\"><img src=\"https://colab.research.google.com/assets/colab-badge.svg\" alt=\"Open In Colab\"/></a>"
      ]
    },
    {
      "cell_type": "markdown",
      "source": [
        "User will input (3ages).Find the oldest one"
      ],
      "metadata": {
        "id": "i7JI3Xozhf3_"
      }
    },
    {
      "cell_type": "code",
      "source": [
        "# Input the ages\n",
        "age1 = int(input(\"Enter the first age: \"))\n",
        "age2 = int(input(\"Enter the second age: \"))\n",
        "age3 = int(input(\"Enter the third age: \"))\n",
        "\n",
        "# Find the oldest age\n",
        "oldest_age = max(age1, age2, age3)\n",
        "\n",
        "# Output the result\n",
        "print(f\"The oldest age is: {oldest_age}\")\n"
      ],
      "metadata": {
        "id": "ut9vihIftn7r",
        "colab": {
          "base_uri": "https://localhost:8080/"
        },
        "outputId": "4257d81d-6f71-4892-af90-b05e2a5a49c4"
      },
      "execution_count": 1,
      "outputs": [
        {
          "output_type": "stream",
          "name": "stdout",
          "text": [
            "Enter the first age: 45\n",
            "Enter the second age: 56\n",
            "Enter the third age: 12\n",
            "The oldest age is: 56\n"
          ]
        }
      ]
    },
    {
      "cell_type": "markdown",
      "source": [
        "Write a program that will convert celsius value to fahrenheit"
      ],
      "metadata": {
        "id": "dt7Cmi8WhmI_"
      }
    },
    {
      "cell_type": "code",
      "source": [
        "# Function to convert Celsius to Fahrenheit\n",
        "def celsius_to_fahrenheit(celsius):\n",
        "    fahrenheit = (celsius * 9/5) + 32\n",
        "    return fahrenheit\n",
        "\n",
        "# Input Celsius value from user\n",
        "celsius = float(input(\"Enter temperature in Celsius: \"))\n",
        "\n",
        "# Convert to Fahrenheit\n",
        "fahrenheit = celsius_to_fahrenheit(celsius)\n",
        "\n",
        "# Output the result\n",
        "print(f\"{celsius}°C is equal to {fahrenheit}°F\")\n"
      ],
      "metadata": {
        "colab": {
          "base_uri": "https://localhost:8080/"
        },
        "id": "rxfECISJFcxI",
        "outputId": "7d601575-295d-4922-d872-f68833583bf2"
      },
      "execution_count": 2,
      "outputs": [
        {
          "output_type": "stream",
          "name": "stdout",
          "text": [
            "Enter temperature in Celsius: 67\n",
            "67.0°C is equal to 152.6°F\n"
          ]
        }
      ]
    },
    {
      "cell_type": "markdown",
      "source": [
        "User will input (2numbers).Write a program to swap the numbers."
      ],
      "metadata": {
        "id": "pDzEqMpXhqTk"
      }
    },
    {
      "cell_type": "code",
      "source": [
        "num1 = float(input(\"Enter first number: \"))\n",
        "num2 = float(input(\"Enter second number: \"))\n",
        "\n",
        "print(f\"Before swapping: num1 ={num1}, num2 = {num2}\")\n",
        "\n",
        "#swapping the numbers\n",
        "num1, num2 = num2, num1\n",
        "print(f\"After swapping: num1 = {num1}, num2 = {num2}\")"
      ],
      "metadata": {
        "colab": {
          "base_uri": "https://localhost:8080/"
        },
        "id": "G90ZxYLiKd9b",
        "outputId": "d8c47c7a-3b8c-4ec6-828b-1c894fad25d2"
      },
      "execution_count": 7,
      "outputs": [
        {
          "output_type": "stream",
          "name": "stdout",
          "text": [
            "Enter first number: 45\n",
            "Enter second number: 55\n",
            "Before swapping: num1 =45.0, num2 = 55.0\n",
            "After swapping: num1 = 55.0, num2 = 45.0\n"
          ]
        }
      ]
    },
    {
      "cell_type": "markdown",
      "source": [
        "Write a program that will give you the sum of 3 digits"
      ],
      "metadata": {
        "id": "GaU1Xp1ah0G7"
      }
    },
    {
      "cell_type": "code",
      "source": [
        "# giving the input for three numbers\n",
        "num1 = int(input('Enter First Number: '))\n",
        "num2 = int(input('Enter Second Number: '))\n",
        "num3 = int(input('Enter Third Number: '))\n",
        "\n",
        "#calculating the sum of three number\n",
        "\n",
        "addition = num1 + num2 +num3\n",
        "\n",
        "print(f\"sum of three number is {addition}\")\n"
      ],
      "metadata": {
        "colab": {
          "base_uri": "https://localhost:8080/"
        },
        "id": "2cu3pLERLJUu",
        "outputId": "cac7c92d-05dc-4277-87b5-094da2042bf2"
      },
      "execution_count": 2,
      "outputs": [
        {
          "output_type": "stream",
          "name": "stdout",
          "text": [
            "Enter First Number: 11\n",
            "Enter Second Number: 22\n",
            "Enter Third Number: 33\n",
            "sum of three number is 66\n"
          ]
        }
      ]
    },
    {
      "cell_type": "markdown",
      "source": [
        "Write a program that will determine weather when the value of temperature and humidity is provided by the user.\n",
        "TEMPERATURE(C)      HUMIDITY(%)      WEATHER\n",
        "\n",
        "\n",
        "      >= 30                             >=90                Hot and Humid\n",
        "\n",
        "      >= 30                             < 90                 Hot\n",
        "\n",
        "      <30                                >= 90               Cool and Humid\n",
        "\n",
        "      <30                                 <90                 Cool"
      ],
      "metadata": {
        "id": "QHDcmg6Ah3ag"
      }
    },
    {
      "cell_type": "code",
      "source": [
        "# providing the values for the temperature and humidity\n",
        "temperature = float(input('Enter the value for temp: '))\n",
        "humidity = float(input('Enter the value for humidity: '))\n",
        "\n",
        "#determining the weather conditions\n",
        "if temperature  >= 30 and humidity >=90:\n",
        "    weather = 'Hot and Humid'\n",
        "elif temperature >= 30 and humidity < 90:\n",
        "    weather = 'Hot'\n",
        "elif temperature < 30 and humidity >= 90:\n",
        "    weather = 'Cool and Humid'\n",
        "else:\n",
        "    weather = 'Cool'\n",
        "\n",
        "#printing the weather condition\n",
        "print(f\"The weather is {weather}\")\n"
      ],
      "metadata": {
        "colab": {
          "base_uri": "https://localhost:8080/"
        },
        "id": "fuUyLQ9Yt2P5",
        "outputId": "1beead53-0c2b-4de7-a62f-5be1c0b1397b"
      },
      "execution_count": 5,
      "outputs": [
        {
          "output_type": "stream",
          "name": "stdout",
          "text": [
            "Enter the value for temp: 22\n",
            "Enter the value for humidity: 34\n",
            "The weather is Cool\n"
          ]
        }
      ]
    },
    {
      "cell_type": "markdown",
      "source": [
        "Write a program that will tell whether the number entered by the user is odd or even."
      ],
      "metadata": {
        "id": "JdoTytAKh7CY"
      }
    },
    {
      "cell_type": "code",
      "source": [
        "#Giving the input\n",
        "number = int(input('Enter the number: '))\n",
        "\n",
        "#Logic to check weather number is odd or even\n",
        "if number % 2 == 0:\n",
        "  result = \"even\"\n",
        "else:\n",
        "  result = \"odd\"\n",
        "\n",
        "print(f'The given number is {result}')"
      ],
      "metadata": {
        "colab": {
          "base_uri": "https://localhost:8080/"
        },
        "id": "0eAmDqRTzkZs",
        "outputId": "148b327d-c1f0-47e1-c7f7-e2e6ea60068f"
      },
      "execution_count": 11,
      "outputs": [
        {
          "output_type": "stream",
          "name": "stdout",
          "text": [
            "Enter the number: 12\n",
            "The given number is even\n"
          ]
        }
      ]
    },
    {
      "cell_type": "markdown",
      "source": [
        "Write a program that will tell whether the given year is a leap year or not."
      ],
      "metadata": {
        "id": "At_jH5n8h9ku"
      }
    },
    {
      "cell_type": "code",
      "source": [
        "#Giving the input\n",
        "year = int(input('Enter the year: '))\n",
        "\n",
        "#Logic to check weather number is odd or even\n",
        "if (year % 4 == 0 and year % 100 != 0) or (year % 400 == 0):\n",
        "  result = \"leap year\"\n",
        "else:\n",
        "  result = \"not a leap year\"\n",
        "\n",
        "print(f'The given year is {result}.')"
      ],
      "metadata": {
        "colab": {
          "base_uri": "https://localhost:8080/"
        },
        "id": "NEuhOjAr12kr",
        "outputId": "44659e77-1c63-4d6c-bf7a-ef8eda71e0b7"
      },
      "execution_count": 5,
      "outputs": [
        {
          "output_type": "stream",
          "name": "stdout",
          "text": [
            "Enter the year: 2400\n",
            "The given year is leap year.\n"
          ]
        }
      ]
    },
    {
      "cell_type": "markdown",
      "source": [
        "Write a program that will reverse a four digit number.Also it checks whether the reverse is true."
      ],
      "metadata": {
        "id": "WYsH-46Zh_BC"
      }
    },
    {
      "cell_type": "code",
      "source": [
        "# Input a four-digit number from the user\n",
        "number = input(\"Enter a four-digit number: \")\n",
        "\n",
        "# Check if the number is a valid four-digit number\n",
        "if len(number) != 4 or not number.isdigit():\n",
        "    print(\"Please enter a valid four-digit number.\")\n",
        "\n",
        "else:\n",
        "    # Reverse the number\n",
        "    reversed_number = number[::-1]\n",
        "\n",
        "    # Check if the reversed number is the same as the original\n",
        "    if number == reversed_number:\n",
        "        print(f\"The reversed number is {reversed_number}. It is a palindrome.\")\n",
        "    else:\n",
        "        print(f\"The reversed number is {reversed_number}. It is not a palindrome.\")\n"
      ],
      "metadata": {
        "colab": {
          "base_uri": "https://localhost:8080/"
        },
        "id": "6a0ATSJd5ul2",
        "outputId": "4accefa9-75ef-4afb-afd8-03df0bcb542a"
      },
      "execution_count": 4,
      "outputs": [
        {
          "output_type": "stream",
          "name": "stdout",
          "text": [
            "Enter a four-digit number: 3456\n",
            "The reversed number is 6543. It is not a palindrome.\n"
          ]
        }
      ]
    },
    {
      "cell_type": "markdown",
      "source": [
        "Write a program that take a user inputr of three angles and will find out whether it can form a triangle or not."
      ],
      "metadata": {
        "id": "TaZfV2y7iFBM"
      }
    },
    {
      "cell_type": "code",
      "source": [
        "# Giving the input\n",
        "angle_1 = float(input('enter the value for 1st angle: '))\n",
        "angle_2 = float(input('enter the value for 2nd angle: '))\n",
        "angle_3 = float(input('enter the value for 3rd angle: '))\n",
        "\n",
        "# condition to check is the given angle will make the triangle or not\n",
        "\n",
        "if angle_1 + angle_2 + angle_3 == 180 and angle_1 > 0 and angle_2 > 0 and angle_3 > 0:\n",
        "  print(f'The given angles will form a triangle.')\n",
        "else:\n",
        "  print(f'The given angles will not form a triangle.')"
      ],
      "metadata": {
        "colab": {
          "base_uri": "https://localhost:8080/"
        },
        "id": "Te-cs58nwrYF",
        "outputId": "c7b51f60-15b8-4a0f-8567-474e0520a127"
      },
      "execution_count": 10,
      "outputs": [
        {
          "output_type": "stream",
          "name": "stdout",
          "text": [
            "enter the value for 1st angle: 120\n",
            "enter the value for 2nd angle: 110\n",
            "enter the value for 3rd angle: -50\n",
            "The given angles will not form a triangle.\n"
          ]
        }
      ]
    },
    {
      "cell_type": "markdown",
      "source": [
        "Write a program that will take user input of cost price and selling price and determines whether its a loss or a profit"
      ],
      "metadata": {
        "id": "WtVxq1yriGZG"
      }
    },
    {
      "cell_type": "code",
      "source": [
        "# Giving the input\n",
        "cost_price = float(input('Enter the cost price '))\n",
        "selling_price = float(input('Enter the selling price '))\n",
        "\n",
        "# condition to check is the given trade is profitable or not\n",
        "if cost_price > selling_price:\n",
        "  print('The trade is in loss')\n",
        "elif cost_price == selling_price:\n",
        "  print('The trade is in neutral')\n",
        "else:\n",
        "  print('The trade is in profit')"
      ],
      "metadata": {
        "colab": {
          "base_uri": "https://localhost:8080/"
        },
        "id": "AMUcaVTlTyYv",
        "outputId": "2d9d5d07-0eed-480b-8d9f-0a3ca61ffc91"
      },
      "execution_count": 13,
      "outputs": [
        {
          "output_type": "stream",
          "name": "stdout",
          "text": [
            "Enter the cost price 110\n",
            "Enter the selling price 90\n",
            "The trade is in loss\n"
          ]
        }
      ]
    },
    {
      "cell_type": "markdown",
      "source": [
        "Write a program to print the following pattern\n",
        "\n",
        "*'\n",
        "\n",
        "**'\n",
        "\n",
        "***'\n",
        "\n",
        "****'\n",
        "\n",
        "*****'"
      ],
      "metadata": {
        "id": "dDG7sOUmd_Xt"
      }
    },
    {
      "cell_type": "code",
      "source": [
        "\n",
        "for i in range(5):\n",
        "  i+= 1\n",
        "  print(i* '*')"
      ],
      "metadata": {
        "colab": {
          "base_uri": "https://localhost:8080/"
        },
        "id": "-uEn0Bw0efla",
        "outputId": "578f706b-f423-4d5b-eaa4-8af16d645c62"
      },
      "execution_count": 23,
      "outputs": [
        {
          "output_type": "stream",
          "name": "stdout",
          "text": [
            "*\n",
            "**\n",
            "***\n",
            "****\n",
            "*****\n"
          ]
        }
      ]
    },
    {
      "cell_type": "code",
      "source": [],
      "metadata": {
        "id": "Zs1grygyfFUp"
      },
      "execution_count": null,
      "outputs": []
    },
    {
      "cell_type": "markdown",
      "source": [
        "Write a program to find the simple interest when the value of principle,rate of interest and time period is given."
      ],
      "metadata": {
        "id": "FsiFeUpL1zpG"
      }
    },
    {
      "cell_type": "code",
      "source": [
        "# Giving the inputs\n",
        "principal_amount = float(input(\"Enter the principal amount \"))\n",
        "rate_of_interest = float(input(\"Enter the rate of interest in percentage \"))\n",
        "time_period = float(input(\"Enter the the time period in year \"))\n",
        "\n",
        "# Calculation for simple interest\n",
        "interest_amount = round((principal_amount * rate_of_interest * time_period)/100,2)\n",
        "\n",
        "# Printin the interest amount\n",
        "print(f'The interest amount for the given values is {interest_amount}')"
      ],
      "metadata": {
        "colab": {
          "base_uri": "https://localhost:8080/"
        },
        "id": "yPglN-nD10Tb",
        "outputId": "094612f6-9287-4281-bbfe-43b9ece9f772"
      },
      "execution_count": 9,
      "outputs": [
        {
          "output_type": "stream",
          "name": "stdout",
          "text": [
            "Enter the principal amount 100\n",
            "Enter the rate of interest in percentage 9\n",
            "Enter the the time period in year 9\n",
            "The interest amount for the given values is 81.0\n"
          ]
        }
      ]
    },
    {
      "cell_type": "code",
      "source": [
        "# Giving the inputs\n",
        "principal_amount = float(input(\"Enter the principal amount \"))\n",
        "rate_of_interest = float(input(\"Enter the rate of interest in percentage \"))\n",
        "time_period = float(input(\"Enter the the time period in year \"))\n",
        "\n",
        "# Calculation for compound interest\n",
        "total_amount = round((principal_amount * (1 + (rate_of_interest/100)) ** time_period),2)\n",
        "\n",
        "compounded_interest = total_amount - principal_amount\n",
        "\n",
        "# Printin the interest amount\n",
        "print(f'The interest amount for the given values is {compounded_interest}')"
      ],
      "metadata": {
        "colab": {
          "base_uri": "https://localhost:8080/"
        },
        "id": "CgKGaHfy2vGy",
        "outputId": "2687bfee-6a0b-48f1-a604-aa4e0bb8de39"
      },
      "execution_count": 14,
      "outputs": [
        {
          "output_type": "stream",
          "name": "stdout",
          "text": [
            "Enter the principal amount 100\n",
            "Enter the rate of interest in percentage 9\n",
            "Enter the the time period in year 9\n",
            "The interest amount for the given values is 117.19\n"
          ]
        }
      ]
    },
    {
      "cell_type": "markdown",
      "source": [
        "Write a program to find the volume of the cylinder."
      ],
      "metadata": {
        "id": "hKUQBwLA75-M"
      }
    },
    {
      "cell_type": "code",
      "source": [
        "import math\n",
        "# Giving the in inputs\n",
        "radius_of_cylinder  = float(input('Enter the radius in cms '))\n",
        "height_of_cylinder = float(input('Enter the height in cms '))\n",
        "\n",
        "# Calculation for the area of cylinder\n",
        "\n",
        "area = round(math.pi * radius_of_cylinder ** 2 * height_of_cylinder,2)\n",
        "\n",
        "\n",
        "print(f'The area of the given cylinder is {area}sqcm')\n"
      ],
      "metadata": {
        "colab": {
          "base_uri": "https://localhost:8080/"
        },
        "id": "HbYZ7fDB77rH",
        "outputId": "b42f4201-bf73-408d-cc71-859e52346b98"
      },
      "execution_count": 19,
      "outputs": [
        {
          "output_type": "stream",
          "name": "stdout",
          "text": [
            "Enter the radius in cms 10\n",
            "Enter the height in cms 10\n",
            "The area of the given cylinder is 3141.59sqcm\n"
          ]
        }
      ]
    },
    {
      "cell_type": "code",
      "source": [],
      "metadata": {
        "id": "zbWlmJ0A9UwH"
      },
      "execution_count": null,
      "outputs": []
    }
  ]
}